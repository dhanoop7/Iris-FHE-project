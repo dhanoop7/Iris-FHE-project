{
 "cells": [
  {
   "cell_type": "code",
   "execution_count": null,
   "id": "d34073a4",
   "metadata": {
    "vscode": {
     "languageId": "plaintext"
    }
   },
   "outputs": [],
   "source": [
    "# notebooks/explore_data.ipynb\n",
    "import cv2\n",
    "from src.utils import plot_sample\n",
    "\n",
    "# Load a sample UBIRIS image and mask\n",
    "image = cv2.imread(\"../dataset/ubiris/1/images/Img_1_1_1.jpg\")\n",
    "mask = cv2.imread(\"../dataset/ubiris/1/mask/img_1_1.png\", cv2.IMREAD_GRAYSCALE)\n",
    "\n",
    "# Visualize\n",
    "plot_sample(image, mask, mask)  # Replace last mask with predictions later"
   ]
  }
 ],
 "metadata": {
  "language_info": {
   "name": "python"
  }
 },
 "nbformat": 4,
 "nbformat_minor": 5
}
